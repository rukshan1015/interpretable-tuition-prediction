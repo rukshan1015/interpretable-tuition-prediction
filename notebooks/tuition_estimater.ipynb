{
 "cells": [
  {
   "cell_type": "code",
   "execution_count": null,
   "id": "b7a30ca7-68f6-4723-a095-6d78488c4096",
   "metadata": {},
   "outputs": [],
   "source": [
    "#Importing main libraries.\n",
    "import pandas as pd\n",
    "import numpy as np\n",
    "import seaborn as sns\n",
    "import matplotlib.pyplot as plt\n",
    "import joblib  # for saving/loading the model\n",
    "\n",
    "#MImporting libries for feature engineering and Model training\n",
    "\n",
    "from sklearn.preprocessing import StandardScaler\n",
    "from sklearn.base import BaseEstimator, TransformerMixin\n",
    "from sklearn.compose import ColumnTransformer\n",
    "from sklearn.pipeline import Pipeline\n",
    "from sklearn.model_selection import train_test_split as split\n",
    "from sklearn.metrics import r2_score\n",
    "import xgboost as xgb\n",
    "\n",
    "# PDP and SHAP\n",
    "\n",
    "from sklearn.inspection import PartialDependenceDisplay\n",
    "import shap\n",
    "\n"
   ]
  },
  {
   "cell_type": "code",
   "execution_count": null,
   "id": "25f1fe39-73f0-4748-9c3e-0ad396e14045",
   "metadata": {},
   "outputs": [],
   "source": [
    "# Importing Data\n",
    "\n",
    "data = pd.read_csv(r\"C:\\Users\\ruksh\\Desktop\\Data_science\\Data\\International_Education_Costs.csv\")"
   ]
  },
  {
   "cell_type": "code",
   "execution_count": null,
   "id": "9586b118-fcd2-4a2b-a33f-e8e82959a7f5",
   "metadata": {
    "scrolled": true
   },
   "outputs": [],
   "source": [
    "## EDA - Statistics\n",
    "\n",
    "#Printing column names\n",
    "print(data.columns)\n",
    "\n",
    "#Data types of each column\n",
    "print(data.dtypes)\n",
    "\n",
    "#Check for missing values\n",
    "print(data.isna().sum())\n",
    "\n",
    "#Data statistics\n",
    "print(data.describe())\n",
    "\n",
    "print(data.nunique)"
   ]
  },
  {
   "cell_type": "code",
   "execution_count": null,
   "id": "3aea5f7c-825c-4e4d-875b-461d2ed64114",
   "metadata": {},
   "outputs": [],
   "source": [
    "# Column selection and categorization \n",
    "x=data.drop('Tuition_USD',axis=1)\n",
    "y=data['Tuition_USD']\n",
    "\n",
    "cat=['Country', 'City', 'University', 'Program', 'Level']\n",
    "num=['Duration_Years','Living_Cost_Index', 'Rent_USD', 'Visa_Fee_USD','Insurance_USD', 'Exchange_Rate']\n",
    "\n"
   ]
  },
  {
   "cell_type": "code",
   "execution_count": null,
   "id": "10daa8a7-61a3-4355-8fbb-53cf91293484",
   "metadata": {},
   "outputs": [],
   "source": [
    "# EDA - Plots (Tuition variation with categorical variables - barplots)\n",
    "\n",
    "for category in cat: \n",
    "    top_10 = pd.DataFrame(\n",
    "    data.groupby(category)['Tuition_USD'].mean().nlargest(10)\n",
    "    ).reset_index()\n",
    "\n",
    "    sns.barplot(x=category,y='Tuition_USD',data=top_10)\n",
    "    plt.xticks(rotation=90)\n",
    "    plt.title(f'{category} with Highest Average Tuition')\n",
    "    \n",
    "    #plt.tight_layout()\n",
    "    plt.show()"
   ]
  },
  {
   "cell_type": "code",
   "execution_count": null,
   "id": "b4cf2bcc-a11b-4d32-b69b-241e6864e009",
   "metadata": {},
   "outputs": [],
   "source": [
    "## EDA - Plots (Pairwise relationships/correlations between numberical variables)\n",
    "\n",
    "data_numerical = data[['Duration_Years','Tuition_USD', 'Living_Cost_Index', 'Rent_USD', 'Visa_Fee_USD','Insurance_USD', 'Exchange_Rate']]\n",
    "sns.heatmap(data_numerical.corr(), annot=True, cmap='coolwarm')\n",
    "plt.show()"
   ]
  },
  {
   "cell_type": "code",
   "execution_count": null,
   "id": "f20f0550-a3ba-48f3-8d35-18d18aa05a56",
   "metadata": {},
   "outputs": [],
   "source": [
    "# EDA - Plots (Pairplots to observe relationships)\n",
    "\n",
    "sns.pairplot(data_numerical)"
   ]
  },
  {
   "cell_type": "code",
   "execution_count": null,
   "id": "0940129b-fcc0-462b-b677-14ab35503c37",
   "metadata": {},
   "outputs": [],
   "source": [
    "## Determining levels in each categorical column. \n",
    "\n",
    "# This is important in selecting the proper encoding method. For example, large number of unique levels leads to high-cardinality categoricals.\n",
    "\n",
    "print(data[cat].nunique())"
   ]
  },
  {
   "cell_type": "code",
   "execution_count": null,
   "id": "51dbaeb1-518c-466c-9d51-01745efbe816",
   "metadata": {},
   "outputs": [],
   "source": [
    "# Given the high cardinality in categorical data, frequescy ecoding is more suitable for intepretability \n",
    "\n",
    "# Creating a custom encoder for frequency encoding \n",
    "class FrequencyEncoder(BaseEstimator, TransformerMixin):\n",
    "    def __init__(self):\n",
    "        self.freq_maps = {}\n",
    "\n",
    "    def fit(self, X, y=None):\n",
    "        X = pd.DataFrame(X)  # Ensure DataFrame\n",
    "        for col in X.columns:\n",
    "            freq = X[col].value_counts(normalize=True)\n",
    "            self.freq_maps[col] = freq\n",
    "        return self\n",
    "\n",
    "    def transform(self, X):\n",
    "        X = pd.DataFrame(X).copy()\n",
    "        for col in X.columns:\n",
    "            if col in self.freq_maps:\n",
    "                X[col] = X[col].map(self.freq_maps[col]).fillna(0)\n",
    "            else:\n",
    "                X[col] = 0  # or keep original if preferred\n",
    "        return X.values  # Return numpy array for sklearn compatibility\n",
    "        \n",
    "    def get_feature_names_out(self, input_features=None):\n",
    "        return input_features\n",
    "\n",
    "# Feature engineering \n",
    "ct = ColumnTransformer(transformers=[\n",
    "                       ('num',StandardScaler(),num),\n",
    "                       ('cat',FrequencyEncoder(),cat),\n",
    "                        ])\n",
    "\n",
    "# Model/pipeline training\n",
    "\n",
    "model_pipeline=Pipeline([\n",
    "    ('preprocessing',ct),\n",
    "    ('model',xgb.XGBRegressor(objective='reg:squarederror', n_estimators=100, learning_rate=0.1))\n",
    "])\n",
    "\n"
   ]
  },
  {
   "cell_type": "code",
   "execution_count": null,
   "id": "ff985882-d862-4de3-8dbd-38b9ef92f0fd",
   "metadata": {},
   "outputs": [],
   "source": [
    "# Splitting the datasetand Training \n",
    "X_train, X_test, y_train, y_test = split(x, y, test_size=0.2, random_state=42)\n",
    "\n"
   ]
  },
  {
   "cell_type": "code",
   "execution_count": null,
   "id": "d04d1cd4-2200-49dd-826c-48a99f820c80",
   "metadata": {},
   "outputs": [],
   "source": [
    "# Transforming and Training in pipeline\n",
    "\n",
    "model_pipeline.fit(X_train,y_train)"
   ]
  },
  {
   "cell_type": "code",
   "execution_count": null,
   "id": "7e2ce46f-aef5-4592-8a25-ff8da2b312de",
   "metadata": {},
   "outputs": [],
   "source": [
    "# Evaluation\n",
    "\n",
    "predicted = model_pipeline.predict(X_test)\n",
    "\n",
    "r2_score(y_test, predicted)"
   ]
  },
  {
   "cell_type": "code",
   "execution_count": null,
   "id": "ee992d09-3f4c-499c-a282-68ab7ebfd9b6",
   "metadata": {},
   "outputs": [],
   "source": [
    "# PDP - If all else is kept constant, how does changing one feature affect the model's prediction?\n",
    "\n",
    "X_test_transformed = model_pipeline.named_steps['preprocessing'].transform(X_test)\n",
    "xgb_model = model_pipeline.named_steps['model']\n",
    "feature_names = model_pipeline.named_steps['preprocessing'].get_feature_names_out()\n",
    "features = list(range(len(feature_names)))\n",
    "\n",
    "# Use transformed X data\n",
    "PartialDependenceDisplay.from_estimator(\n",
    "    estimator=xgb_model,\n",
    "    X=X_test_transformed,                   \n",
    "    features=features,\n",
    "    feature_names=feature_names,               \n",
    "    grid_resolution=50,\n",
    ")\n",
    "\n",
    "plt.subplots_adjust(hspace=0.8, wspace=0.8)\n",
    "plt.show()\n",
    "plt.savefig(\"PDP_plot.png\")\n",
    "\n",
    "## IMPORTANT\n",
    "\n",
    "# PDP shows the average effect of a feature on predictions, assuming others stay constant.\n",
    "# May be misleading when features are highly correlated (e.g., Living_Cost_Index, Rent, Insurance).\n"
   ]
  },
  {
   "cell_type": "code",
   "execution_count": null,
   "id": "8e67fd4c-fd47-428f-8adf-ea81cab40656",
   "metadata": {},
   "outputs": [],
   "source": [
    "## Model explainability with SHAP (how much each feature contributes to increasing or decreasing a prediction — for each individual data point.) \n",
    "\n",
    "# Create SHAP explainer\n",
    "explainer = shap.Explainer(xgb_model, X_test_transformed)\n",
    "\n",
    "# Compute SHAP values\n",
    "shap_values = explainer(X_test_transformed)\n",
    "\n",
    "shap_values.feature_names = feature_names\n",
    "\n",
    "# Plot global interpretation\n",
    "shap.plots.beeswarm(shap_values)\n",
    "plt.savefig(\"shap_plot.png\")\n",
    "\n",
    "# === Summary ===\n",
    "# - Feature importance (SHAP): 'cat__Country' has the highest contribution to predictions.\n",
    "# - PDP showed limited effect for 'Living_Cost_Index' due to correlation with Rent and Insurance.\n",
    "# - SHAP provided clearer, more accurate interpretability than XGBoost's built-in feature importance."
   ]
  },
  {
   "cell_type": "code",
   "execution_count": null,
   "id": "3affb642-6db7-4634-83bf-57d0ae17ae23",
   "metadata": {},
   "outputs": [],
   "source": [
    "#Saving the model\n",
    "\n",
    "joblib.dump(model_pipeline, \"model_pipeline.joblib\")"
   ]
  },
  {
   "cell_type": "code",
   "execution_count": null,
   "id": "332bd6ff-8b2d-4929-9c4b-caa5f2b5691c",
   "metadata": {},
   "outputs": [],
   "source": [
    "#Loading the model and inferencing with the loaded model with new data\n",
    "\n",
    "#load_pipeline = joblib.load(\"model_pipeline.joblib\")\n",
    "#new_prediction = load_pipeline.predict(X_test)"
   ]
  },
  {
   "cell_type": "code",
   "execution_count": null,
   "id": "420131ab-52c9-468e-b764-86074fdcae9a",
   "metadata": {},
   "outputs": [],
   "source": [
    "!jupyter nbconvert --to script tuition_estimater.ipynb\n"
   ]
  }
 ],
 "metadata": {
  "kernelspec": {
   "display_name": "Python 3 (ipykernel)",
   "language": "python",
   "name": "python3"
  },
  "language_info": {
   "codemirror_mode": {
    "name": "ipython",
    "version": 3
   },
   "file_extension": ".py",
   "mimetype": "text/x-python",
   "name": "python",
   "nbconvert_exporter": "python",
   "pygments_lexer": "ipython3",
   "version": "3.11.12"
  }
 },
 "nbformat": 4,
 "nbformat_minor": 5
}
